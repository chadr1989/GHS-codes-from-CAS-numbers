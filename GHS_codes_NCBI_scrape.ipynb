{
 "cells": [
  {
   "cell_type": "code",
   "execution_count": 4,
   "id": "18f5a53e-7c36-4766-aba4-a0f57b821c16",
   "metadata": {},
   "outputs": [],
   "source": [
    "#  Most of these libraries are included in the Anaconda distribution of Python.  Download necessary libraries through the Anaconda prompt with pip install or conda install.  \n",
    "\n",
    "import numpy as np\n",
    "import pandas as pd\n",
    "import requests\n",
    "import re\n",
    "from bs4 import BeautifulSoup\n",
    "from thermo.chemical import Chemical\n",
    "import tkinter\n",
    "from tkinter import *\n",
    "from tkinter import filedialog\n",
    "import os"
   ]
  },
  {
   "cell_type": "code",
   "execution_count": 6,
   "id": "b0811aac-a252-4e39-b37e-f1f2115f0044",
   "metadata": {},
   "outputs": [],
   "source": [
    "#  this cell opens a dialog to load the template spreadsheet\n",
    "\n",
    "root = tkinter.Tk()\n",
    "request_load_file = filedialog.askopenfile(initialdir=os.getcwd(),filetypes=[('Excel Files', '*.xlsx'),('CSV Files', '*.csv')])\n",
    "if request_load_file:\n",
    "      filepath = os.path.abspath(request_load_file.name)\n",
    "root.destroy()\n",
    "df_inventory = pd.read_excel(filepath)\n",
    "df_inventory.head()"
   ]
  },
  {
   "cell_type": "code",
   "execution_count": 8,
   "id": "603e892e-ce1a-409f-95d0-62b95f7d577f",
   "metadata": {},
   "outputs": [],
   "source": [
    "#  Note: The loaded spreadsheet must contain the CAS numbers of the chemicals in a column named \"CAS\"\n",
    "#  This cell creates 2 new columns in the dataframe and cross-references PubChem IDs with given CAS numbers\n",
    "\n",
    "df_inventory['PubChem ID']=np.nan\n",
    "df_inventory['GHS Codes']=np.nan\n",
    "for i in df_inventory['CAS']:\n",
    "    try:\n",
    "        chem = Chemical(f'{i}')\n",
    "        df_inventory.loc[df_inventory['CAS']==i,'PubChem ID'] = chem.PubChem\n",
    "    except Exception:\n",
    "        pass"
   ]
  },
  {
   "cell_type": "code",
   "execution_count": 14,
   "id": "29ea657b-50d3-4ef9-97fb-28fd8511be30",
   "metadata": {},
   "outputs": [
    {
     "name": "stdout",
     "output_type": "stream",
     "text": [
      "H331: Toxic if inhaled [Danger Acute toxicity, inhalation] --- H315: Causes skin irritation [Warning Skin corrosion/irritation] --- H226: Flammable liquid and vapor [Warning Flammable liquids] --- H411: Toxic to aquatic life with long lasting effects [Hazardous to the aquatic environment, long-term hazard] --- H373: Causes damage to organs through prolonged or repeated exposure [Warning Specific target organ toxicity, repeated exposure]\n"
     ]
    }
   ],
   "source": [
    "#  This is a test run of the code that produces GHS codes.  Run this and ensure the output is readable before you start the loop in the next window.\n",
    "\n",
    "test_chem_id = df_inventory['PubChem ID'].dropna()[0]\n",
    "result = requests.get(f'https://pubchem.ncbi.nlm.nih.gov/rest/pug_view/data/compound/{int(test_chem_id)}/JSON/?response_type=display&heading=GHS%20Classification','lxml')\n",
    "soup = BeautifulSoup(result.text,'lxml').text\n",
    "if len(soup) > 90:\n",
    "    pattern_hits = [m.start() for m in re.finditer(r'\"H\\d\\d\\d', soup)]\n",
    "    ghs_codes_set = set()\n",
    "    for i in range(0,len(pattern_hits)):\n",
    "        phrase_start = pattern_hits[i]\n",
    "        phrase_end = soup[phrase_start+1:].find('\"')\n",
    "        ghs_codes_set.add(soup[phrase_start+1:phrase_start+5])\n",
    "    ghs_codes_list = list()\n",
    "    for c in ghs_codes_set:\n",
    "        ghs_start = soup.find(c)\n",
    "        ghs_end = soup[soup.find(c)+1:].find('\"')+1\n",
    "        ghs_codes_list.append(soup[ghs_start:ghs_start+ghs_end])\n",
    "    joined_ghs = ' --- '.join(ghs_codes_list)\n",
    "    print(joined_ghs)\n",
    "    #df_inventory.loc[df_inventory['PubChem ID']==chem_id,'GHS Codes'] = joined_ghs\n",
    "else:\n",
    "    pass"
   ]
  },
  {
   "cell_type": "code",
   "execution_count": 234,
   "id": "4f7a98b3-1798-4ccc-b8d1-6ef8a76f47dc",
   "metadata": {},
   "outputs": [],
   "source": [
    "#  This cell will loop over the PubChem IDs and request GHS data from NCBI.  This could have a runtime of several minutes depending on your hardware and internet connection.\n",
    "\n",
    "for chem_id in set(df_inventory['PubChem ID'].dropna()):\n",
    "    result = requests.get(f'https://pubchem.ncbi.nlm.nih.gov/rest/pug_view/data/compound/{int(chem_id)}/JSON/?response_type=display&heading=GHS%20Classification','lxml')\n",
    "    soup = BeautifulSoup(result.text,'lxml').text\n",
    "    if len(soup) > 90:\n",
    "        pattern_hits = [m.start() for m in re.finditer(r'\"H\\d\\d\\d', soup)]\n",
    "        ghs_codes_set = set()\n",
    "        for i in range(0,len(pattern_hits)):\n",
    "            phrase_start = pattern_hits[i]\n",
    "            phrase_end = soup[phrase_start+1:].find('\"')\n",
    "            ghs_codes_set.add(soup[phrase_start+1:phrase_start+5])\n",
    "        ghs_codes_list = list()\n",
    "        for c in ghs_codes_set:\n",
    "            ghs_start = soup.find(c)\n",
    "            ghs_end = soup[soup.find(c)+1:].find('\"')+1\n",
    "            ghs_codes_list.append(soup[ghs_start:ghs_start+ghs_end])\n",
    "        joined_ghs = ' --- '.join(ghs_codes_list)\n",
    "        df_inventory.loc[df_inventory['PubChem ID']==chem_id,'GHS Codes'] = joined_ghs\n",
    "    else:\n",
    "        pass"
   ]
  },
  {
   "cell_type": "code",
   "execution_count": 36,
   "id": "62327b57-6f34-4a70-8065-38982c00f661",
   "metadata": {},
   "outputs": [
    {
     "name": "stdin",
     "output_type": "stream",
     "text": [
      "Save file as: test55\n"
     ]
    }
   ],
   "source": [
    "# input your filename as a string in this cell.  Files will be saved in '.xlsx' format by default.\n",
    "\n",
    "save_as_filename = ''"
   ]
  },
  {
   "cell_type": "code",
   "execution_count": 32,
   "id": "1770ad73-7458-45ad-9eae-8de22cfd463d",
   "metadata": {},
   "outputs": [],
   "source": [
    "#  If you prefer .csv format, simply replace '.xlsx' below with '.csv'\n",
    "\n",
    "df_inventory.to_excel(filepath[:filepath.rfind('\\\\')+1]+save_as_filename+'.xlsx')"
   ]
  }
 ],
 "metadata": {
  "kernelspec": {
   "display_name": "Python 3",
   "language": "python",
   "name": "python3"
  },
  "language_info": {
   "codemirror_mode": {
    "name": "ipython",
    "version": 3
   },
   "file_extension": ".py",
   "mimetype": "text/x-python",
   "name": "python",
   "nbconvert_exporter": "python",
   "pygments_lexer": "ipython3",
   "version": "3.8.11"
  }
 },
 "nbformat": 4,
 "nbformat_minor": 5
}
