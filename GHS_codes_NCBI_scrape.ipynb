{
 "cells": [
  {
   "cell_type": "code",
   "execution_count": null,
   "id": "18f5a53e-7c36-4766-aba4-a0f57b821c16",
   "metadata": {},
   "outputs": [],
   "source": [
    "#  Most of these libraries are included in the Anaconda distribution of Python.  Download necessary libraries through the Anaconda prompt with pip install or conda install.  \n",
    "\n",
    "import numpy as np\n",
    "import pandas as pd\n",
    "import requests\n",
    "import re\n",
    "from bs4 import BeautifulSoup\n",
    "from thermo.chemical import Chemical\n",
    "import tkinter\n",
    "from tkinter import *\n",
    "from tkinter import filedialog\n",
    "import os"
   ]
  },
  {
   "cell_type": "code",
   "execution_count": 4,
   "id": "b0811aac-a252-4e39-b37e-f1f2115f0044",
   "metadata": {},
   "outputs": [
    {
     "data": {
      "text/html": [
       "<div>\n",
       "<style scoped>\n",
       "    .dataframe tbody tr th:only-of-type {\n",
       "        vertical-align: middle;\n",
       "    }\n",
       "\n",
       "    .dataframe tbody tr th {\n",
       "        vertical-align: top;\n",
       "    }\n",
       "\n",
       "    .dataframe thead th {\n",
       "        text-align: right;\n",
       "    }\n",
       "</style>\n",
       "<table border=\"1\" class=\"dataframe\">\n",
       "  <thead>\n",
       "    <tr style=\"text-align: right;\">\n",
       "      <th></th>\n",
       "      <th>Entry</th>\n",
       "      <th>Compound</th>\n",
       "      <th>CAS</th>\n",
       "      <th>Supplier</th>\n",
       "      <th>Initial Amount</th>\n",
       "      <th>Current Amount</th>\n",
       "      <th>Location</th>\n",
       "      <th>Storage Code</th>\n",
       "      <th>Hazard Class</th>\n",
       "      <th>Bottle type (glass, plastic, etc.)</th>\n",
       "      <th>Date received</th>\n",
       "      <th>Barcode</th>\n",
       "      <th>Room</th>\n",
       "      <th>Expiration date?</th>\n",
       "      <th>Last Checked Date</th>\n",
       "      <th>Additional Info</th>\n",
       "      <th>Comments/Updates</th>\n",
       "    </tr>\n",
       "  </thead>\n",
       "  <tbody>\n",
       "    <tr>\n",
       "      <th>0</th>\n",
       "      <td>DH607A-2</td>\n",
       "      <td>Bromobenzene</td>\n",
       "      <td>108-86-1</td>\n",
       "      <td>Repackaged</td>\n",
       "      <td>120mL</td>\n",
       "      <td>120mL</td>\n",
       "      <td>Flammable 3</td>\n",
       "      <td>NEUT A-Z</td>\n",
       "      <td>3</td>\n",
       "      <td>Glass</td>\n",
       "      <td>2017-09-29 00:00:00</td>\n",
       "      <td>C006668</td>\n",
       "      <td>DH607A</td>\n",
       "      <td>NaT</td>\n",
       "      <td>AJC 8/11/21</td>\n",
       "      <td>NaN</td>\n",
       "      <td>NaN</td>\n",
       "    </tr>\n",
       "    <tr>\n",
       "      <th>1</th>\n",
       "      <td>DH607A-3</td>\n",
       "      <td>2-methyl-2-butene</td>\n",
       "      <td>513-35-9</td>\n",
       "      <td>Sigma Aldrich</td>\n",
       "      <td>50mL</td>\n",
       "      <td>50mL</td>\n",
       "      <td>Flammable 3</td>\n",
       "      <td>NEUT A-Z</td>\n",
       "      <td>3</td>\n",
       "      <td>Glass</td>\n",
       "      <td>2015-07-27 00:00:00</td>\n",
       "      <td>C008259</td>\n",
       "      <td>DH607A</td>\n",
       "      <td>NaT</td>\n",
       "      <td>AJC 8/11/21</td>\n",
       "      <td>NaN</td>\n",
       "      <td>NaN</td>\n",
       "    </tr>\n",
       "    <tr>\n",
       "      <th>2</th>\n",
       "      <td>DH607A-4</td>\n",
       "      <td>1-bromo-3-fluorobenzene</td>\n",
       "      <td>1073-06-9</td>\n",
       "      <td>AK Scientific</td>\n",
       "      <td>25g</td>\n",
       "      <td>25g</td>\n",
       "      <td>Flammable 3</td>\n",
       "      <td>NEUT A-Z</td>\n",
       "      <td>3</td>\n",
       "      <td>Glass</td>\n",
       "      <td>2015-07-06 00:00:00</td>\n",
       "      <td>C008279</td>\n",
       "      <td>DH607A</td>\n",
       "      <td>NaT</td>\n",
       "      <td>AJC 8/11/21</td>\n",
       "      <td>NaN</td>\n",
       "      <td>NaN</td>\n",
       "    </tr>\n",
       "    <tr>\n",
       "      <th>3</th>\n",
       "      <td>DH607A-5</td>\n",
       "      <td>(1R)-(+)-α-Pinene</td>\n",
       "      <td>7785-70-8</td>\n",
       "      <td>TCI</td>\n",
       "      <td>25 mL</td>\n",
       "      <td>25 mL</td>\n",
       "      <td>Flammable 3</td>\n",
       "      <td>NEUT A-Z</td>\n",
       "      <td>3</td>\n",
       "      <td>Glass</td>\n",
       "      <td>2016-06-13 00:00:00</td>\n",
       "      <td>C009130</td>\n",
       "      <td>DH607A</td>\n",
       "      <td>NaT</td>\n",
       "      <td>AJC 8/11/21</td>\n",
       "      <td>NaN</td>\n",
       "      <td>NaN</td>\n",
       "    </tr>\n",
       "    <tr>\n",
       "      <th>4</th>\n",
       "      <td>DH607A-7</td>\n",
       "      <td>Benzene-d6</td>\n",
       "      <td>71-43-2</td>\n",
       "      <td>Cambridge Isotope Lab.</td>\n",
       "      <td>10 g</td>\n",
       "      <td>3 g</td>\n",
       "      <td>Flammable 3</td>\n",
       "      <td>NMR Solvent</td>\n",
       "      <td>3</td>\n",
       "      <td>Glass</td>\n",
       "      <td>2017-11-10 00:00:00</td>\n",
       "      <td>C036553</td>\n",
       "      <td>DH607A</td>\n",
       "      <td>NaT</td>\n",
       "      <td>AJC 8/11/21</td>\n",
       "      <td>NaN</td>\n",
       "      <td>NaN</td>\n",
       "    </tr>\n",
       "  </tbody>\n",
       "</table>\n",
       "</div>"
      ],
      "text/plain": [
       "      Entry                 Compound        CAS                Supplier  \\\n",
       "0  DH607A-2             Bromobenzene   108-86-1              Repackaged   \n",
       "1  DH607A-3        2-methyl-2-butene   513-35-9           Sigma Aldrich   \n",
       "2  DH607A-4  1-bromo-3-fluorobenzene  1073-06-9           AK Scientific   \n",
       "3  DH607A-5        (1R)-(+)-α-Pinene  7785-70-8                     TCI   \n",
       "4  DH607A-7               Benzene-d6    71-43-2  Cambridge Isotope Lab.   \n",
       "\n",
       "  Initial Amount Current Amount     Location Storage Code Hazard Class  \\\n",
       "0          120mL          120mL  Flammable 3     NEUT A-Z            3   \n",
       "1           50mL           50mL  Flammable 3     NEUT A-Z            3   \n",
       "2            25g            25g  Flammable 3     NEUT A-Z            3   \n",
       "3          25 mL          25 mL  Flammable 3     NEUT A-Z            3   \n",
       "4           10 g            3 g  Flammable 3  NMR Solvent            3   \n",
       "\n",
       "  Bottle type (glass, plastic, etc.)        Date received  Barcode    Room  \\\n",
       "0                              Glass  2017-09-29 00:00:00  C006668  DH607A   \n",
       "1                              Glass  2015-07-27 00:00:00  C008259  DH607A   \n",
       "2                              Glass  2015-07-06 00:00:00  C008279  DH607A   \n",
       "3                              Glass  2016-06-13 00:00:00  C009130  DH607A   \n",
       "4                              Glass  2017-11-10 00:00:00  C036553  DH607A   \n",
       "\n",
       "  Expiration date? Last Checked Date Additional Info Comments/Updates  \n",
       "0              NaT       AJC 8/11/21             NaN              NaN  \n",
       "1              NaT       AJC 8/11/21             NaN              NaN  \n",
       "2              NaT       AJC 8/11/21             NaN              NaN  \n",
       "3              NaT       AJC 8/11/21             NaN              NaN  \n",
       "4              NaT       AJC 8/11/21             NaN              NaN  "
      ]
     },
     "execution_count": 4,
     "metadata": {},
     "output_type": "execute_result"
    }
   ],
   "source": [
    "#  this cell opens a dialog to load the template spreadsheet\n",
    "\n",
    "root = tkinter.Tk()\n",
    "request_load_file = filedialog.askopenfile(initialdir=os.getcwd(),filetypes=[('Excel Files', '*.xlsx'),('CSV Files', '*.csv')])\n",
    "if request_load_file:\n",
    "      filepath = os.path.abspath(request_load_file.name)\n",
    "root.destroy()\n",
    "if filepath[-5:]=='.xlsx':\n",
    "    df_inventory = pd.read_excel(filepath)\n",
    "elif filepath[-4:]=='.csv':\n",
    "    df_inventory = pd.read_csv(filepath)\n",
    "df_inventory.head()"
   ]
  },
  {
   "cell_type": "code",
   "execution_count": 38,
   "id": "0cafc0be-b356-4314-9d1a-699ef74b302a",
   "metadata": {},
   "outputs": [
    {
     "data": {
      "text/plain": [
       "'.xlsx'"
      ]
     },
     "execution_count": 38,
     "metadata": {},
     "output_type": "execute_result"
    }
   ],
   "source": [
    "filepath[-5:]"
   ]
  },
  {
   "cell_type": "code",
   "execution_count": 37,
   "id": "38d6d82e-05d9-4f60-9bbe-23637e9dc92c",
   "metadata": {},
   "outputs": [
    {
     "data": {
      "text/plain": [
       "'C:\\\\Users\\\\chadm\\\\Desktop\\\\Miller Conrad Lab\\\\Inventory\\\\MillerConradLab_Inventory_11012021_forChad.xlsx'"
      ]
     },
     "execution_count": 37,
     "metadata": {},
     "output_type": "execute_result"
    }
   ],
   "source": [
    "filepath"
   ]
  },
  {
   "cell_type": "code",
   "execution_count": 8,
   "id": "603e892e-ce1a-409f-95d0-62b95f7d577f",
   "metadata": {},
   "outputs": [],
   "source": [
    "#  Note: The loaded spreadsheet must contain the CAS numbers of the chemicals in a column named \"CAS\"\n",
    "#  This cell creates 2 new columns in the dataframe and cross-references PubChem IDs with given CAS numbers\n",
    "\n",
    "df_inventory['PubChem ID']=np.nan\n",
    "df_inventory['GHS Codes']=np.nan\n",
    "for i in df_inventory['CAS']:\n",
    "    try:\n",
    "        chem = Chemical(f'{i}')\n",
    "        df_inventory.loc[df_inventory['CAS']==i,'PubChem ID'] = chem.PubChem\n",
    "    except Exception:\n",
    "        pass"
   ]
  },
  {
   "cell_type": "code",
   "execution_count": 14,
   "id": "29ea657b-50d3-4ef9-97fb-28fd8511be30",
   "metadata": {},
   "outputs": [
    {
     "name": "stdout",
     "output_type": "stream",
     "text": [
      "H331: Toxic if inhaled [Danger Acute toxicity, inhalation] --- H315: Causes skin irritation [Warning Skin corrosion/irritation] --- H226: Flammable liquid and vapor [Warning Flammable liquids] --- H411: Toxic to aquatic life with long lasting effects [Hazardous to the aquatic environment, long-term hazard] --- H373: Causes damage to organs through prolonged or repeated exposure [Warning Specific target organ toxicity, repeated exposure]\n"
     ]
    }
   ],
   "source": [
    "#  This is a test run of the code that produces GHS codes.  Run this and ensure the output is readable before you start the loop in the next window.\n",
    "\n",
    "test_chem_id = df_inventory['PubChem ID'].dropna()[0]\n",
    "result = requests.get(f'https://pubchem.ncbi.nlm.nih.gov/rest/pug_view/data/compound/{int(test_chem_id)}/JSON/?response_type=display&heading=GHS%20Classification','lxml')\n",
    "soup = BeautifulSoup(result.text,'lxml').text\n",
    "if len(soup) > 90:\n",
    "    pattern_hits = [m.start() for m in re.finditer(r'\"H\\d\\d\\d', soup)]\n",
    "    ghs_codes_set = set()\n",
    "    for i in range(0,len(pattern_hits)):\n",
    "        phrase_start = pattern_hits[i]\n",
    "        phrase_end = soup[phrase_start+1:].find('\"')\n",
    "        ghs_codes_set.add(soup[phrase_start+1:phrase_start+5])\n",
    "    ghs_codes_list = list()\n",
    "    for c in ghs_codes_set:\n",
    "        ghs_start = soup.find(c)\n",
    "        ghs_end = soup[soup.find(c)+1:].find('\"')+1\n",
    "        ghs_codes_list.append(soup[ghs_start:ghs_start+ghs_end])\n",
    "    joined_ghs = ' --- '.join(ghs_codes_list)\n",
    "    print(joined_ghs)\n",
    "    #df_inventory.loc[df_inventory['PubChem ID']==chem_id,'GHS Codes'] = joined_ghs\n",
    "else:\n",
    "    pass"
   ]
  },
  {
   "cell_type": "code",
   "execution_count": 234,
   "id": "4f7a98b3-1798-4ccc-b8d1-6ef8a76f47dc",
   "metadata": {},
   "outputs": [],
   "source": [
    "#  This cell will loop over the PubChem IDs and request GHS data from NCBI.  This could have a runtime of several minutes depending on your hardware and internet connection.\n",
    "\n",
    "for chem_id in set(df_inventory['PubChem ID'].dropna()):\n",
    "    result = requests.get(f'https://pubchem.ncbi.nlm.nih.gov/rest/pug_view/data/compound/{int(chem_id)}/JSON/?response_type=display&heading=GHS%20Classification','lxml')\n",
    "    soup = BeautifulSoup(result.text,'lxml').text\n",
    "    if len(soup) > 90:\n",
    "        pattern_hits = [m.start() for m in re.finditer(r'\"H\\d\\d\\d', soup)]\n",
    "        ghs_codes_set = set()\n",
    "        for i in range(0,len(pattern_hits)):\n",
    "            phrase_start = pattern_hits[i]\n",
    "            phrase_end = soup[phrase_start+1:].find('\"')\n",
    "            ghs_codes_set.add(soup[phrase_start+1:phrase_start+5])\n",
    "        ghs_codes_list = list()\n",
    "        for c in ghs_codes_set:\n",
    "            ghs_start = soup.find(c)\n",
    "            ghs_end = soup[soup.find(c)+1:].find('\"')+1\n",
    "            ghs_codes_list.append(soup[ghs_start:ghs_start+ghs_end])\n",
    "        joined_ghs = ' --- '.join(ghs_codes_list)\n",
    "        df_inventory.loc[df_inventory['PubChem ID']==chem_id,'GHS Codes'] = joined_ghs\n",
    "    else:\n",
    "        pass"
   ]
  },
  {
   "cell_type": "code",
   "execution_count": 36,
   "id": "62327b57-6f34-4a70-8065-38982c00f661",
   "metadata": {},
   "outputs": [
    {
     "name": "stdin",
     "output_type": "stream",
     "text": [
      "Save file as: test55\n"
     ]
    }
   ],
   "source": [
    "# input your filename as a string in this cell.  Files will be saved in '.xlsx' format by default.\n",
    "\n",
    "save_as_filename = ''"
   ]
  },
  {
   "cell_type": "code",
   "execution_count": 32,
   "id": "1770ad73-7458-45ad-9eae-8de22cfd463d",
   "metadata": {},
   "outputs": [],
   "source": [
    "#  If you prefer .csv format, simply replace '.xlsx' below with '.csv'\n",
    "#  Edited spreadsheet will be saved in the same location as the origional template\n",
    "\n",
    "df_inventory.to_excel(filepath[:filepath.rfind('\\\\')+1]+save_as_filename+'.xlsx')"
   ]
  }
 ],
 "metadata": {
  "kernelspec": {
   "display_name": "Python 3",
   "language": "python",
   "name": "python3"
  },
  "language_info": {
   "codemirror_mode": {
    "name": "ipython",
    "version": 3
   },
   "file_extension": ".py",
   "mimetype": "text/x-python",
   "name": "python",
   "nbconvert_exporter": "python",
   "pygments_lexer": "ipython3",
   "version": "3.8.11"
  }
 },
 "nbformat": 4,
 "nbformat_minor": 5
}
