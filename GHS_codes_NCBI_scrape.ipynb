{
 "cells": [
  {
   "cell_type": "code",
   "execution_count": null,
   "id": "c8dbdef1-8930-45a0-a003-093c392fc312",
   "metadata": {},
   "outputs": [],
   "source": [
    "#  Most of these libraries are included in the Anaconda distribution of Python.  Download necessary libraries through the Anaconda prompt with pip install or conda install.  \n",
    "\n",
    "import numpy as np\n",
    "import pandas as pd\n",
    "import requests\n",
    "import re\n",
    "from bs4 import BeautifulSoup\n",
    "from thermo.chemical import Chemical\n",
    "import tkinter\n",
    "from tkinter import *\n",
    "from tkinter import filedialog\n",
    "import os"
   ]
  },
  {
   "cell_type": "code",
   "execution_count": null,
   "id": "d9384cda-01c7-4c5b-a9dd-235f6004d51c",
   "metadata": {},
   "outputs": [],
   "source": [
    "#  this cell opens a dialog to load the template spreadsheet\n",
    "\n",
    "root = tkinter.Tk()\n",
    "request_load_file = filedialog.askopenfile(initialdir=os.getcwd(),filetypes=[('Excel Files', '*.xlsx'),('CSV Files', '*.csv')])\n",
    "if request_load_file:\n",
    "      filepath = os.path.abspath(request_load_file.name)\n",
    "root.destroy()\n",
    "if filepath[-5:]=='.xlsx':\n",
    "    df_inventory = pd.read_excel(filepath)\n",
    "elif filepath[-4:]=='.csv':\n",
    "    df_inventory = pd.read_csv(filepath)\n",
    "df_inventory.head()"
   ]
  },
  {
   "cell_type": "code",
   "execution_count": null,
   "id": "c5f9a4bb-19ca-43b7-8938-613ce84c7b04",
   "metadata": {},
   "outputs": [],
   "source": [
    "#  Note: The loaded spreadsheet must contain the CAS numbers of the chemicals in a column named \"CAS\"\n",
    "#  This cell creates 2 new columns in the dataframe and cross-references PubChem IDs with given CAS numbers\n",
    "\n",
    "df_inventory['PubChem ID']=np.nan\n",
    "df_inventory['GHS Codes']=np.nan\n",
    "for i in df_inventory['CAS']:\n",
    "    try:\n",
    "        chem = Chemical(f'{i}')\n",
    "        df_inventory.loc[df_inventory['CAS']==i,'PubChem ID'] = chem.PubChem\n",
    "    except Exception:\n",
    "        pass"
   ]
  },
  {
   "cell_type": "code",
   "execution_count": null,
   "id": "7154d37b-ae91-4d45-9b75-f0efe69f9073",
   "metadata": {},
   "outputs": [],
   "source": [
    "#  This is a test run of the code that produces GHS codes.  Run this and ensure the output is readable before you start the loop in the next window.\n",
    "\n",
    "test_chem_id = df_inventory['PubChem ID'].dropna()[0]\n",
    "result = requests.get(f'https://pubchem.ncbi.nlm.nih.gov/rest/pug_view/data/compound/{int(test_chem_id)}/JSON/?response_type=display&heading=GHS%20Classification','lxml')\n",
    "soup = BeautifulSoup(result.text,'lxml').text\n",
    "if len(soup) > 90:\n",
    "    pattern_hits = [m.start() for m in re.finditer(r'\"H\\d\\d\\d', soup)]\n",
    "    ghs_codes_set = set()\n",
    "    for i in range(0,len(pattern_hits)):\n",
    "        phrase_start = pattern_hits[i]\n",
    "        phrase_end = soup[phrase_start+1:].find('\"')\n",
    "        ghs_codes_set.add(soup[phrase_start+1:phrase_start+5])\n",
    "    ghs_codes_list = list()\n",
    "    for c in ghs_codes_set:\n",
    "        ghs_start = soup.find(c)\n",
    "        ghs_end = soup[soup.find(c)+1:].find('\"')+1\n",
    "        ghs_codes_list.append(soup[ghs_start:ghs_start+ghs_end])\n",
    "    joined_ghs = ' --- '.join(ghs_codes_list)\n",
    "    print(joined_ghs)\n",
    "    #df_inventory.loc[df_inventory['PubChem ID']==chem_id,'GHS Codes'] = joined_ghs\n",
    "else:\n",
    "    pass"
   ]
  },
  {
   "cell_type": "code",
   "execution_count": null,
   "id": "d78c0429-ea19-4d11-a895-755bd49ed7ae",
   "metadata": {},
   "outputs": [],
   "source": [
    "#  This cell will loop over the PubChem IDs and request GHS data from NCBI.  This could have a runtime of several minutes depending on your hardware and internet connection.\n",
    "\n",
    "for chem_id in set(df_inventory['PubChem ID'].dropna()):\n",
    "    result = requests.get(f'https://pubchem.ncbi.nlm.nih.gov/rest/pug_view/data/compound/{int(chem_id)}/JSON/?response_type=display&heading=GHS%20Classification','lxml')\n",
    "    soup = BeautifulSoup(result.text,'lxml').text\n",
    "    if len(soup) > 90:\n",
    "        pattern_hits = [m.start() for m in re.finditer(r'\"H\\d\\d\\d', soup)]\n",
    "        ghs_codes_set = set()\n",
    "        for i in range(0,len(pattern_hits)):\n",
    "            phrase_start = pattern_hits[i]\n",
    "            phrase_end = soup[phrase_start+1:].find('\"')\n",
    "            ghs_codes_set.add(soup[phrase_start+1:phrase_start+5])\n",
    "        ghs_codes_list = list()\n",
    "        for c in ghs_codes_set:\n",
    "            ghs_start = soup.find(c)\n",
    "            ghs_end = soup[soup.find(c)+1:].find('\"')+1\n",
    "            ghs_codes_list.append(soup[ghs_start:ghs_start+ghs_end])\n",
    "        joined_ghs = ' --- '.join(ghs_codes_list)\n",
    "        df_inventory.loc[df_inventory['PubChem ID']==chem_id,'GHS Codes'] = joined_ghs\n",
    "    else:\n",
    "        pass"
   ]
  },
  {
   "cell_type": "code",
   "execution_count": null,
   "id": "60d598c8-3859-4d16-b7e3-461d5af28ef9",
   "metadata": {},
   "outputs": [],
   "source": [
    "# input your filename as a string (text in quotation marks) in this cell.  Files will be saved in '.xlsx' format by default.\n",
    "\n",
    "save_as_filename = ''"
   ]
  },
  {
   "cell_type": "code",
   "execution_count": null,
   "id": "8cf6a7cc-ab68-4c6c-9679-156eaa4f6dac",
   "metadata": {},
   "outputs": [],
   "source": [
    "#  If you prefer .csv format, simply replace '.xlsx' below with '.csv'\n",
    "#  Edited spreadsheet will be saved in the same location as the origional template\n",
    "\n",
    "df_inventory.to_excel(filepath[:filepath.rfind('\\\\')+1]+save_as_filename+'.xlsx')"
   ]
  }
 ],
 "metadata": {
  "kernelspec": {
   "display_name": "Python 3",
   "language": "python",
   "name": "python3"
  },
  "language_info": {
   "codemirror_mode": {
    "name": "ipython",
    "version": 3
   },
   "file_extension": ".py",
   "mimetype": "text/x-python",
   "name": "python",
   "nbconvert_exporter": "python",
   "pygments_lexer": "ipython3",
   "version": "3.8.11"
  }
 },
 "nbformat": 4,
 "nbformat_minor": 5
}
