{
 "cells": [
  {
   "cell_type": "code",
   "execution_count": null,
   "id": "3b1d9574-cf2c-458b-9782-fcc7a5bc8258",
   "metadata": {},
   "outputs": [],
   "source": [
    "#  Most of these libraries are included in the Anaconda distribution of Python.  Download necessary libraries through the Anaconda prompt with pip install or conda install.  \n",
    "\n",
    "import numpy as np\n",
    "import pandas as pd\n",
    "import requests\n",
    "import re\n",
    "from bs4 import BeautifulSoup\n",
    "from thermo.chemical import Chemical\n",
    "import tkinter\n",
    "from tkinter import *\n",
    "from tkinter import filedialog\n",
    "import os"
   ]
  },
  {
   "cell_type": "code",
   "execution_count": null,
   "id": "3f9c11f3-e6be-44d7-809b-457655e3a77a",
   "metadata": {},
   "outputs": [],
   "source": [
    "#  this cell opens a dialog to load the template spreadsheet\n",
    "\n",
    "root = tkinter.Tk()\n",
    "request_load_file = filedialog.askopenfile(initialdir=os.getcwd(),filetypes=[('Excel Files', '*.xlsx'),('CSV Files', '*.csv')])\n",
    "if request_load_file:\n",
    "      filepath = os.path.abspath(request_load_file.name)\n",
    "root.destroy()\n",
    "if filepath[-5:]=='.xlsx':\n",
    "    df_inventory = pd.read_excel(filepath)\n",
    "elif filepath[-4:]=='.csv':\n",
    "    df_inventory = pd.read_csv(filepath)\n",
    "df_inventory.head()"
   ]
  },
  {
   "cell_type": "code",
   "execution_count": null,
   "id": "b7f1fc79-2917-4afe-a17c-07a741fec552",
   "metadata": {},
   "outputs": [],
   "source": [
    "#  this cell creates a temporary reference object for p codes and precautionary statements\n",
    "\n",
    "result = requests.get(f'https://pubchem.ncbi.nlm.nih.gov/ghs/#_prec','lxml')\n",
    "soup = BeautifulSoup(result.text,'lxml')\n",
    "\n",
    "gross_precautions_list = list()\n",
    "p_codes_list = list()\n",
    "precaution_statements_list = list()\n",
    "\n",
    "for i in soup.select('#pcode')[0].select('td'):\n",
    "    gross_precautions_list.append(i.text)\n",
    "for i in range(0,len(gross_precautions_list)):\n",
    "    if not re.search(r'P\\d\\d\\d',gross_precautions_list[i])==None:\n",
    "        p_codes_list.append(gross_precautions_list[i])\n",
    "for code in p_codes_list:\n",
    "    precaution_statements_list.append(gross_precautions_list[gross_precautions_list.index(code)+1])\n",
    "precaution_data_dict = {'P Codes':p_codes_list,'Precautionary Statements':precaution_statements_list}\n",
    "df_precaution = pd.DataFrame(precaution_data_dict)"
   ]
  },
  {
   "cell_type": "code",
   "execution_count": null,
   "id": "0aa9ed72-cad6-4179-9fe5-78d284b0a03c",
   "metadata": {},
   "outputs": [],
   "source": [
    "#  Note: The loaded spreadsheet must contain the CAS numbers of the chemicals in a column named \"CAS\"\n",
    "#  This cell creates new columns in the dataframe and cross-references PubChem IDs with given CAS numbers\n",
    "\n",
    "df_inventory['PubChem ID']=np.nan\n",
    "df_inventory['GHS Codes']=np.nan\n",
    "df_inventory['Precautionary Statements']=np.nan\n",
    "for i in df_inventory['CAS']:\n",
    "    try:\n",
    "        chem = Chemical(f'{i}')\n",
    "        df_inventory.loc[df_inventory['CAS']==i,'PubChem ID'] = chem.PubChem\n",
    "    except Exception:\n",
    "        pass"
   ]
  },
  {
   "cell_type": "code",
   "execution_count": null,
   "id": "11d98223-33b4-4196-be6e-a77480962951",
   "metadata": {},
   "outputs": [],
   "source": [
    "#  This cell will loop over the PubChem IDs and request GHS data from NCBI.  This could have a runtime of several minutes depending on your hardware and internet connection.\n",
    "\n",
    "for chem_id in set(df_inventory['PubChem ID'].dropna()):\n",
    "    result = requests.get(f'https://pubchem.ncbi.nlm.nih.gov/rest/pug_view/data/compound/{int(chem_id)}/JSON/?response_type=display&heading=GHS%20Classification','lxml')\n",
    "    soup = BeautifulSoup(result.text,'lxml').text\n",
    "    if len(soup) > 90:\n",
    "        pattern_hits = [m.start() for m in re.finditer(r'\"H\\d\\d\\d', soup)]\n",
    "        ghs_codes_set = set()\n",
    "        for i in range(0,len(pattern_hits)):\n",
    "            phrase_start = pattern_hits[i]\n",
    "            phrase_end = soup[phrase_start+1:].find('\"')\n",
    "            ghs_codes_set.add(soup[phrase_start+1:phrase_start+5])\n",
    "        ghs_codes_list = list()\n",
    "        for c in ghs_codes_set:\n",
    "            ghs_start = soup.find(c)\n",
    "            ghs_end = soup[soup.find(c)+1:].find('\"')+1\n",
    "            ghs_codes_list.append(soup[ghs_start:ghs_start+ghs_end])\n",
    "        joined_ghs = ' --- '.join(ghs_codes_list)\n",
    "        df_inventory.loc[df_inventory['PubChem ID']==chem_id,'GHS Codes'] = joined_ghs\n",
    "        p_list = list()\n",
    "        for i in set(soup[soup.find('Precautionary Statement Codes'):].replace('and ','').replace(' ','').replace('\"\\n}','').split(',')):\n",
    "            if i in p_codes_list:\n",
    "                p_list.append(i+' '+df_precaution['Precautionary Statements'][df_precaution[df_precaution['P Codes']==i].index[0]])\n",
    "        joined_p = ' --- '.join(p_list)\n",
    "        df_inventory.loc[df_inventory['PubChem ID']==chem_id,'Precautionary Statements'] = joined_p\n",
    "    else:\n",
    "        pass\n",
    "df_inventory.head()"
   ]
  },
  {
   "cell_type": "code",
   "execution_count": null,
   "id": "3aa5813b-a1be-4ac4-8910-d6c78f56c6a9",
   "metadata": {},
   "outputs": [],
   "source": [
    "#  If you prefer .csv format, simply replace '.xlsx' below with '.csv'\n",
    "#  Edited spreadsheet will be saved in the same location as the origional template\n",
    "\n",
    "df_inventory.to_excel(filepath[:filepath.rfind('.')]+'_ghs_edits.xlsx')"
   ]
  }
 ],
 "metadata": {
  "kernelspec": {
   "display_name": "Python 3",
   "language": "python",
   "name": "python3"
  },
  "language_info": {
   "codemirror_mode": {
    "name": "ipython",
    "version": 3
   },
   "file_extension": ".py",
   "mimetype": "text/x-python",
   "name": "python",
   "nbconvert_exporter": "python",
   "pygments_lexer": "ipython3",
   "version": "3.8.11"
  }
 },
 "nbformat": 4,
 "nbformat_minor": 5
}
